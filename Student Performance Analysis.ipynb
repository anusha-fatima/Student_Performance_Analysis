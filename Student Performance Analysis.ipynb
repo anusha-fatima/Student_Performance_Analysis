{
  "metadata": {
    "kernelspec": {
      "name": "python",
      "display_name": "Python (Pyodide)",
      "language": "python"
    },
    "language_info": {
      "codemirror_mode": {
        "name": "python",
        "version": 3
      },
      "file_extension": ".py",
      "mimetype": "text/x-python",
      "name": "python",
      "nbconvert_exporter": "python",
      "pygments_lexer": "ipython3",
      "version": "3.8"
    }
  },
  "nbformat_minor": 5,
  "nbformat": 4,
  "cells": [
    {
      "id": "12a80a67-2199-45d1-8bad-32e644813bbd",
      "cell_type": "code",
      "source": "import pandas as pd\nst_df = pd.read_csv('StudentsPerformance.csv')\nst_df.head(10)",
      "metadata": {
        "trusted": true
      },
      "outputs": [
        {
          "execution_count": 1,
          "output_type": "execute_result",
          "data": {
            "text/plain": "   gender race/ethnicity parental level of education         lunch  \\\n0  female        group B           bachelor's degree      standard   \n1  female        group C                some college      standard   \n2  female        group B             master's degree      standard   \n3    male        group A          associate's degree  free/reduced   \n4    male        group C                some college      standard   \n5  female        group B          associate's degree      standard   \n6  female        group B                some college      standard   \n7    male        group B                some college  free/reduced   \n8    male        group D                 high school  free/reduced   \n9  female        group B                 high school  free/reduced   \n\n  test preparation course  math score  reading score  writing score  \n0                    none          72             72             74  \n1               completed          69             90             88  \n2                    none          90             95             93  \n3                    none          47             57             44  \n4                    none          76             78             75  \n5                    none          71             83             78  \n6               completed          88             95             92  \n7                    none          40             43             39  \n8               completed          64             64             67  \n9                    none          38             60             50  ",
            "text/html": "<div>\n<style scoped>\n    .dataframe tbody tr th:only-of-type {\n        vertical-align: middle;\n    }\n\n    .dataframe tbody tr th {\n        vertical-align: top;\n    }\n\n    .dataframe thead th {\n        text-align: right;\n    }\n</style>\n<table border=\"1\" class=\"dataframe\">\n  <thead>\n    <tr style=\"text-align: right;\">\n      <th></th>\n      <th>gender</th>\n      <th>race/ethnicity</th>\n      <th>parental level of education</th>\n      <th>lunch</th>\n      <th>test preparation course</th>\n      <th>math score</th>\n      <th>reading score</th>\n      <th>writing score</th>\n    </tr>\n  </thead>\n  <tbody>\n    <tr>\n      <th>0</th>\n      <td>female</td>\n      <td>group B</td>\n      <td>bachelor's degree</td>\n      <td>standard</td>\n      <td>none</td>\n      <td>72</td>\n      <td>72</td>\n      <td>74</td>\n    </tr>\n    <tr>\n      <th>1</th>\n      <td>female</td>\n      <td>group C</td>\n      <td>some college</td>\n      <td>standard</td>\n      <td>completed</td>\n      <td>69</td>\n      <td>90</td>\n      <td>88</td>\n    </tr>\n    <tr>\n      <th>2</th>\n      <td>female</td>\n      <td>group B</td>\n      <td>master's degree</td>\n      <td>standard</td>\n      <td>none</td>\n      <td>90</td>\n      <td>95</td>\n      <td>93</td>\n    </tr>\n    <tr>\n      <th>3</th>\n      <td>male</td>\n      <td>group A</td>\n      <td>associate's degree</td>\n      <td>free/reduced</td>\n      <td>none</td>\n      <td>47</td>\n      <td>57</td>\n      <td>44</td>\n    </tr>\n    <tr>\n      <th>4</th>\n      <td>male</td>\n      <td>group C</td>\n      <td>some college</td>\n      <td>standard</td>\n      <td>none</td>\n      <td>76</td>\n      <td>78</td>\n      <td>75</td>\n    </tr>\n    <tr>\n      <th>5</th>\n      <td>female</td>\n      <td>group B</td>\n      <td>associate's degree</td>\n      <td>standard</td>\n      <td>none</td>\n      <td>71</td>\n      <td>83</td>\n      <td>78</td>\n    </tr>\n    <tr>\n      <th>6</th>\n      <td>female</td>\n      <td>group B</td>\n      <td>some college</td>\n      <td>standard</td>\n      <td>completed</td>\n      <td>88</td>\n      <td>95</td>\n      <td>92</td>\n    </tr>\n    <tr>\n      <th>7</th>\n      <td>male</td>\n      <td>group B</td>\n      <td>some college</td>\n      <td>free/reduced</td>\n      <td>none</td>\n      <td>40</td>\n      <td>43</td>\n      <td>39</td>\n    </tr>\n    <tr>\n      <th>8</th>\n      <td>male</td>\n      <td>group D</td>\n      <td>high school</td>\n      <td>free/reduced</td>\n      <td>completed</td>\n      <td>64</td>\n      <td>64</td>\n      <td>67</td>\n    </tr>\n    <tr>\n      <th>9</th>\n      <td>female</td>\n      <td>group B</td>\n      <td>high school</td>\n      <td>free/reduced</td>\n      <td>none</td>\n      <td>38</td>\n      <td>60</td>\n      <td>50</td>\n    </tr>\n  </tbody>\n</table>\n</div>"
          },
          "metadata": {}
        }
      ],
      "execution_count": 1
    },
    {
      "id": "5eab4a20-68c4-4dd2-bd00-c1afac68ff93",
      "cell_type": "code",
      "source": "st_df.info()",
      "metadata": {
        "trusted": true
      },
      "outputs": [
        {
          "name": "stdout",
          "output_type": "stream",
          "text": "<class 'pandas.core.frame.DataFrame'>\nRangeIndex: 1000 entries, 0 to 999\nData columns (total 8 columns):\n #   Column                       Non-Null Count  Dtype \n---  ------                       --------------  ----- \n 0   gender                       1000 non-null   object\n 1   race/ethnicity               1000 non-null   object\n 2   parental level of education  1000 non-null   object\n 3   lunch                        1000 non-null   object\n 4   test preparation course      1000 non-null   object\n 5   math score                   1000 non-null   int64 \n 6   reading score                1000 non-null   int64 \n 7   writing score                1000 non-null   int64 \ndtypes: int64(3), object(5)\nmemory usage: 43.0+ KB\n"
        }
      ],
      "execution_count": 6
    },
    {
      "id": "7cb9f398-9465-4897-a883-d4cd472be6fe",
      "cell_type": "code",
      "source": "st_df.isnull().sum()",
      "metadata": {
        "trusted": true
      },
      "outputs": [
        {
          "execution_count": 7,
          "output_type": "execute_result",
          "data": {
            "text/plain": "gender                         0\nrace/ethnicity                 0\nparental level of education    0\nlunch                          0\ntest preparation course        0\nmath score                     0\nreading score                  0\nwriting score                  0\ndtype: int64"
          },
          "metadata": {}
        }
      ],
      "execution_count": 7
    },
    {
      "id": "0eb084b4-6cef-4787-9142-f6237ba209c1",
      "cell_type": "code",
      "source": "st_df.describe()",
      "metadata": {
        "trusted": true
      },
      "outputs": [
        {
          "execution_count": 8,
          "output_type": "execute_result",
          "data": {
            "text/plain": "       math score  reading score  writing score\ncount  1000.00000    1000.000000    1000.000000\nmean     66.08900      69.169000      68.054000\nstd      15.16308      14.600192      15.195657\nmin       0.00000      17.000000      10.000000\n25%      57.00000      59.000000      57.750000\n50%      66.00000      70.000000      69.000000\n75%      77.00000      79.000000      79.000000\nmax     100.00000     100.000000     100.000000",
            "text/html": "<div>\n<style scoped>\n    .dataframe tbody tr th:only-of-type {\n        vertical-align: middle;\n    }\n\n    .dataframe tbody tr th {\n        vertical-align: top;\n    }\n\n    .dataframe thead th {\n        text-align: right;\n    }\n</style>\n<table border=\"1\" class=\"dataframe\">\n  <thead>\n    <tr style=\"text-align: right;\">\n      <th></th>\n      <th>math score</th>\n      <th>reading score</th>\n      <th>writing score</th>\n    </tr>\n  </thead>\n  <tbody>\n    <tr>\n      <th>count</th>\n      <td>1000.00000</td>\n      <td>1000.000000</td>\n      <td>1000.000000</td>\n    </tr>\n    <tr>\n      <th>mean</th>\n      <td>66.08900</td>\n      <td>69.169000</td>\n      <td>68.054000</td>\n    </tr>\n    <tr>\n      <th>std</th>\n      <td>15.16308</td>\n      <td>14.600192</td>\n      <td>15.195657</td>\n    </tr>\n    <tr>\n      <th>min</th>\n      <td>0.00000</td>\n      <td>17.000000</td>\n      <td>10.000000</td>\n    </tr>\n    <tr>\n      <th>25%</th>\n      <td>57.00000</td>\n      <td>59.000000</td>\n      <td>57.750000</td>\n    </tr>\n    <tr>\n      <th>50%</th>\n      <td>66.00000</td>\n      <td>70.000000</td>\n      <td>69.000000</td>\n    </tr>\n    <tr>\n      <th>75%</th>\n      <td>77.00000</td>\n      <td>79.000000</td>\n      <td>79.000000</td>\n    </tr>\n    <tr>\n      <th>max</th>\n      <td>100.00000</td>\n      <td>100.000000</td>\n      <td>100.000000</td>\n    </tr>\n  </tbody>\n</table>\n</div>"
          },
          "metadata": {}
        }
      ],
      "execution_count": 8
    },
    {
      "id": "9e205c37-8a7e-4cfb-bd90-36f650b1ddb1",
      "cell_type": "code",
      "source": "st_df.shape",
      "metadata": {
        "trusted": true
      },
      "outputs": [
        {
          "execution_count": 9,
          "output_type": "execute_result",
          "data": {
            "text/plain": "(1000, 8)"
          },
          "metadata": {}
        }
      ],
      "execution_count": 9
    },
    {
      "id": "a91f42e5-dc7f-4d1c-bbfe-cb8912755a24",
      "cell_type": "markdown",
      "source": "So, there is no missing values and data seem clean initially.",
      "metadata": {}
    },
    {
      "id": "fff95b0d-3fce-47ff-9171-cbee33ea2b2f",
      "cell_type": "markdown",
      "source": "Some Tricky and Deeply Analysis",
      "metadata": {}
    },
    {
      "id": "454e1011-0df5-467b-b8ec-600f9bdac848",
      "cell_type": "code",
      "source": "# The linked between the parents education to highest math's score---So it's a master's degree with 69.74 with some point difference with bachelor's one\n\naverage_scores = st_df.groupby('parental level of education')['math score'].mean().sort_values(ascending=False)\nprint(average_scores)",
      "metadata": {
        "trusted": true
      },
      "outputs": [
        {
          "name": "stdout",
          "output_type": "stream",
          "text": "parental level of education\nmaster's degree       69.745763\nbachelor's degree     69.389831\nassociate's degree    67.882883\nsome college          67.128319\nsome high school      63.497207\nhigh school           62.137755\nName: math score, dtype: float64\n"
        }
      ],
      "execution_count": 10
    },
    {
      "id": "3fc8f3cb-6a0a-480c-ab61-12a93025f363",
      "cell_type": "code",
      "source": "# The average score difference between males and females across all subjects.\naverage_scores = st_df.groupby('gender')[['math score', 'reading score', 'writing score']].mean()\nprint(average_scores)",
      "metadata": {
        "trusted": true
      },
      "outputs": [
        {
          "name": "stdout",
          "output_type": "stream",
          "text": "        math score  reading score  writing score\ngender                                          \nfemale   63.633205      72.608108      72.467181\nmale     68.728216      65.473029      63.311203\n"
        }
      ],
      "execution_count": 11
    },
    {
      "id": "8f8723db-0e6a-4249-81e9-40ac956827b4",
      "cell_type": "code",
      "source": "# Improvement in course score by completing test preparation. So the best avg score is for writing.\n\n#Group by test preparation to find average scores.\navg_scores_prep = st_df.groupby('test preparation course')[['math score', 'reading score', 'writing score']].mean()\n\nimprovement = avg_scores_prep.loc['completed'] - avg_scores_prep.loc['none']\nprint(\"Score improvement from completing test preparation course:\")\nprint(improvement)\n\n# Visual Gragh\nimport matplotlib.pyplot as plt\n\nsubjects = ['math score', 'reading score', 'writing score']\nimprovements = improvement.values\n\nplt.figure(figsize=(8,5))\nplt.bar(subjects, improvements, color=['skyblue', 'lightgreen', 'pink'])\nplt.title('Score Improvement from Completing Test Preparation Course')\nplt.ylabel('Average Score Increase')\nplt.show()\n",
      "metadata": {
        "trusted": true
      },
      "outputs": [
        {
          "name": "stdout",
          "output_type": "stream",
          "text": "Score improvement from completing test preparation course:\nmath score       5.617649\nreading score    7.359587\nwriting score    9.914322\ndtype: float64\n"
        },
        {
          "name": "stderr",
          "output_type": "stream",
          "text": "Matplotlib is building the font cache; this may take a moment.\n"
        },
        {
          "output_type": "display_data",
          "data": {
            "text/plain": "<Figure size 800x500 with 1 Axes>",
            "image/png": "[encoded data removed]"
          },
          "metadata": {}
        }
      ],
      "execution_count": 14
    },
    {
      "id": "cbaabeb9-a1fd-4e92-bb30-0f2a8fc3f7a1",
      "cell_type": "code",
      "source": "# Combination of lunch, test prepartion, and gender that produce top 10% scores.\nst_df['overall_score'] = st_df[['math score', 'reading score', 'writing score']].mean(axis=1)\n\n# To calculate cutoff for top 10%\ntop_10_cutoff = st_df['overall_score'].quantile(0.90)\n\n#Filtering student with overall scores >= cutoff\ntop10_df = st_df[st_df['overall_score'] >= top_10_cutoff]\n\ncombination_counts = top10_df.groupby(['gender', 'lunch', 'test preparation course']).size()\ncombination_counts = combination_counts.sort_values(ascending=False)\nprint(combination_counts)",
      "metadata": {
        "trusted": true
      },
      "outputs": [
        {
          "name": "stdout",
          "output_type": "stream",
          "text": "gender  lunch         test preparation course\nfemale  standard      none                       31\n                      completed                  29\nmale    standard      completed                  20\n                      none                        9\nfemale  free/reduced  completed                   6\nmale    free/reduced  completed                   3\nfemale  free/reduced  none                        2\nmale    free/reduced  none                        2\ndtype: int64\n"
        }
      ],
      "execution_count": 20
    },
    {
      "id": "655fb3e8-2141-4a7f-b9b1-712d646c69e6",
      "cell_type": "code",
      "source": "# To check correlation between reading score and writing score\ncorr_read_write = st_df['reading score'].corr(st_df['writing score'])\nprint(f\"Correlation between reading and writing scores: {corr_read_write:.3f}\")\n\n# To check correlation between math score and writing score\ncorr_math_write = st_df['math score'].corr(st_df['writing score'])\nprint(f\"Correlation between math and writing scores: {corr_math_write:.3f}\")",
      "metadata": {
        "trusted": true
      },
      "outputs": [
        {
          "name": "stdout",
          "output_type": "stream",
          "text": "Correlation between reading and writing scores: 0.955\nCorrelation between math and writing scores: 0.803\n"
        }
      ],
      "execution_count": 16
    },
    {
      "id": "20ca3542-ae24-47bc-92af-2479cfcf90b1",
      "cell_type": "raw",
      "source": "So the score of reading and writing is much stronger than math and writing",
      "metadata": {}
    },
    {
      "id": "e918a434-566b-4bfa-9789-8e3ad4bb4d6c",
      "cell_type": "code",
      "source": "# Does lunch type have a uniform impact across all race/ethnicity groups                      \nst_df['overall_score'] = st_df[['math score', 'reading score', 'writing score']].mean(axis=1)\navg_scores_lunch_race = st_df.groupby(['race/ethnicity', 'lunch'])['overall_score'].mean().reset_index()\n\n\npivot_table = avg_scores_lunch_race.pivot(index='race/ethnicity', columns='lunch', values='overall_score')\npivot_table['difference'] = pivot_table['standard'] - pivot_table['free/reduced']\nprint(pivot_table)",
      "metadata": {
        "trusted": true
      },
      "outputs": [
        {
          "name": "stdout",
          "output_type": "stream",
          "text": "lunch           free/reduced   standard  difference\nrace/ethnicity                                     \ngroup A            57.657407  66.616352    8.958945\ngroup B            60.975845  68.030303    7.054458\ngroup C            60.412281  70.868293   10.456012\ngroup D            64.666667  71.746507    7.079840\ngroup E            67.495935  74.929293    7.433358\n"
        }
      ],
      "execution_count": 17
    },
    {
      "id": "185d5690-4d39-479f-9d0d-fe31daf22093",
      "cell_type": "raw",
      "source": "The Lunch type impact across all race groups is mostly positive according to the abi=ove analysis but it is specifically stand out more for Group C with 10.45 difference from other groups.\nSo lunch's type impact does vary somewhat by race\\ethnicity.",
      "metadata": {}
    },
    {
      "id": "662151b1-c729-461f-a694-d0bb17332d5a",
      "cell_type": "code",
      "source": "# Identifying top 5% students perofrmance and their Demographic profiles.\nst_df['overall_score'] = st_df[['math score', 'reading score', 'writing score']].mean(axis=1)\ntop_5_cutoff = st_df['overall_score'].quantile(0.95)\nprint(f\"Top 5% cutoff from overall score: {top_5_cutoff}\")\ntop_5_students = st_df[st_df['overall_score'] >= top_5_cutoff]\n\n# ANalyzing top 5% students demographic profile\n\n# Gender\nprint(\"Gender Profile:\")\nfor category, count in top_5_students['gender'].value_counts().items():\n    print(f\"{category}: {count}\")\n\n# Race/Ethnicity\nprint(\"\\nRace/ethnicity:\")\nfor category, count in top_5_students['race/ethnicity'].value_counts().items():\n    print(f\"{category}: {count}\")\n\nprint(\"\\nLunch type:\")\nfor category, count in top_5_students['lunch'].value_counts().items():\n    print(f\"{category}: {count}\")\n\n\n# Parental education\nprint(\"\\nParental level of education:\")\nfor category, count in top_5_students['parental level of education'].value_counts().items():\n    print(f\"{category}: {count}\")\n\n# Test prep course\nprint(\"\\nTest preparation course:\")\nfor category, count in top_5_students['test preparation course'].value_counts().items():\n    print(f\"{category}: {count}\")",
      "metadata": {
        "trusted": true
      },
      "outputs": [
        {
          "name": "stdout",
          "output_type": "stream",
          "text": "Top 5% cutoff from overall score: 90.01666666666665\nGender Profile:\nfemale: 36\nmale: 14\n\nRace/ethnicity:\ngroup E: 14\ngroup C: 13\ngroup D: 12\ngroup B: 7\ngroup A: 4\n\nLunch type:\nstandard: 46\nfree/reduced: 4\n\nParental level of education:\nassociate's degree: 16\nbachelor's degree: 13\nsome college: 10\nmaster's degree: 6\nsome high school: 3\nhigh school: 2\n\nTest preparation course:\ncompleted: 33\nnone: 17\n"
        }
      ],
      "execution_count": 18
    },
    {
      "id": "f3bdadc8-98d7-412d-ba25-2e9a31012c9e",
      "cell_type": "raw",
      "source": "In above analyziation:\nIn the top 5% students by overall score, there are more Females. \nOn the basis of Race, top scorers are come from Group E and C or D.\nMost of the top students have Standard Lunch ( shows that have better family resources )\nMajority student's parents attend College and have Associcate's degree or Bachelour's.\nThese top performers completed their Test Preparation Course.",
      "metadata": {}
    },
    {
      "id": "fdce2400-fee9-4629-b190-ec78e0c3e725",
      "cell_type": "code",
      "source": "# Clustring Students into Performance Category (Low, High, Medium) and it is possible by assigning each student into category based on their overall_score\nst_df['overall_score'] = st_df[['math score', 'reading score', 'writing score']].mean(axis=1)\ndef score_category(score):\n    if score < 60:\n        return 'Low'\n    elif score < 80:\n        return 'Medium'\n    else:\n        return 'High'\n\nst_df['performance_category'] = st_df['overall_score'].apply(score_category)\nprint(st_df['performance_category'].value_counts())\n",
      "metadata": {
        "trusted": true
      },
      "outputs": [
        {
          "name": "stdout",
          "output_type": "stream",
          "text": "performance_category\nMedium    517\nLow       285\nHigh      198\nName: count, dtype: int64\n"
        }
      ],
      "execution_count": 19
    },
    {
      "id": "9b0b45ac-1d43-4533-839f-5c9f056e2881",
      "cell_type": "code",
      "source": "# # df.to_excel('cleaned_data.xlsx', index=False)\n\nst_df.to_csv('Students_cleaned_data.csv', index=False)",
      "metadata": {
        "trusted": true
      },
      "outputs": [],
      "execution_count": 21
    }
  ]
}